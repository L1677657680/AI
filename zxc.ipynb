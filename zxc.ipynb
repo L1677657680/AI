{
 "cells": [
  {
   "cell_type": "code",
   "execution_count": 44,
   "metadata": {
    "collapsed": true,
    "pycharm": {
     "is_executing": false,
     "name": "#%%\n"
    }
   },
   "outputs": [],
   "source": [
    "#文件写入函数\n",
    "f = open(\"C:/Users/Lenovo/Desktop/zxc.txt\",\"w\")\n",
    "f.write(\"阿斯顿为何会怎么做\\n温热水太热呢\\n三十分德国分数乘法\")\n",
    "f.close()"
   ]
  },
  {
   "cell_type": "code",
   "execution_count": 45,
   "outputs": [
    {
     "name": "stdout",
     "text": [
      "阿斯顿为何会怎么做\n温热水太热呢\n三十分德国分数乘法\n"
     ],
     "output_type": "stream"
    }
   ],
   "source": [
    "#读函数read\n",
    "f = open(\"C:/Users/Lenovo/Desktop/zxc.txt\",\"r\")\n",
    "a=f.read()\n",
    "print(a)\n",
    "f.close()"
   ],
   "metadata": {
    "collapsed": false,
    "pycharm": {
     "name": "#%%\n",
     "is_executing": false
    }
   }
  },
  {
   "cell_type": "code",
   "execution_count": 46,
   "outputs": [
    {
     "name": "stdout",
     "text": [
      "阿斯顿为何会怎么做\n温热水太热呢\n三十分德国分数乘法"
     ],
     "output_type": "stream"
    }
   ],
   "source": [
    "#读函数read\n",
    "with open(\"C:/Users/Lenovo/Desktop/zxc.txt\",\"r\") as f:\n",
    "    a=f.read()\n",
    "    print(a,end=\"\")"
   ],
   "metadata": {
    "collapsed": false,
    "pycharm": {
     "name": "#%%\n",
     "is_executing": false
    }
   }
  },
  {
   "cell_type": "code",
   "execution_count": 47,
   "outputs": [],
   "source": [
    "#replace替换函数\n",
    "f = open(\"C:/Users/Lenovo/Desktop/zxc.txt\",\"r\")\n",
    "a=f.read()\n",
    "a=a.replace(\"热水\",\"天气\")\n",
    "f.close()\n",
    "f = open(\"C:/Users/Lenovo/Desktop/zxc.txt\",\"w\")\n",
    "f.write(a)\n",
    "f.close()"
   ],
   "metadata": {
    "collapsed": false,
    "pycharm": {
     "name": "#%%\n",
     "is_executing": false
    }
   }
  },
  {
   "cell_type": "code",
   "execution_count": 49,
   "outputs": [
    {
     "name": "stdout",
     "text": [
      "面积为：",
      " 15\n"
     ],
     "output_type": "stream"
    }
   ],
   "source": [
    "class A:\n",
    "    def f(self,a,b):   #必须有self，并为第一个\n",
    "        return a*b\n",
    "a = 3\n",
    "b = 5\n",
    "x=A()\n",
    "print(\"面积为：\",str(x.f(a,b)))"
   ],
   "metadata": {
    "collapsed": false,
    "pycharm": {
     "name": "#%%\n",
     "is_executing": false
    }
   }
  },
  {
   "cell_type": "code",
   "execution_count": 50,
   "outputs": [
    {
     "name": "stdout",
     "text": [
      "电话 : 10010\n{'电话：': 10086, 'Email：': '10086@163.com', '性别：': '男', '电话': 10010}\n{}\n"
     ],
     "output_type": "stream"
    }
   ],
   "source": [
    "#字典\n",
    "dict={'名字：' :'滴答',\n",
    "      '电话：' :10086,\n",
    "      'Email：' :'10086@163.com',\n",
    "      '性别：' :'男'}\n",
    "dict['电话'] = 10010   #修改字典数据\n",
    "print('电话 :' ,dict['电话'])   #字典的键\n",
    "del dict['名字：']\n",
    "print(dict)   #字典的值\n",
    "dict.clear()   #删除键\n",
    "print(dict)   #清空字典"
   ],
   "metadata": {
    "collapsed": false,
    "pycharm": {
     "name": "#%%\n",
     "is_executing": false
    }
   }
  },
  {
   "cell_type": "code",
   "execution_count": 54,
   "outputs": [
    {
     "name": "stdout",
     "text": [
      "圆的周长为： 6.283185307179586\n"
     ],
     "output_type": "stream"
    }
   ],
   "source": [
    "#计算圆的周长\n",
    "import math\n",
    "a=int(input(\"请输入圆的半径：\"))\n",
    "l=a\n",
    "s=2*math.pi*l\n",
    "print('圆的周长为：',s)"
   ],
   "metadata": {
    "collapsed": false,
    "pycharm": {
     "name": "#%%\n",
     "is_executing": false
    }
   }
  },
  {
   "cell_type": "code",
   "execution_count": 55,
   "outputs": [
    {
     "name": "stdout",
     "text": [
      "圆的面积为： 3.141592653589793\n"
     ],
     "output_type": "stream"
    }
   ],
   "source": [
    "#计算圆的面积\n",
    "import math\n",
    "a=int(input(\"请输入圆的半径：\"))\n",
    "l=a\n",
    "s=math.pi*l*l\n",
    "print('圆的面积为：',s)"
   ],
   "metadata": {
    "collapsed": false,
    "pycharm": {
     "name": "#%%\n",
     "is_executing": false
    }
   }
  },
  {
   "cell_type": "code",
   "execution_count": 53,
   "outputs": [
    {
     "name": "stdout",
     "text": [
      "球的表面积为： 12.566370614359172\n"
     ],
     "output_type": "stream"
    }
   ],
   "source": [
    "#计算球的表面积\n",
    "import math\n",
    "a=int(input(\"请输入球的半径：\"))\n",
    "l=a\n",
    "s=4*math.pi*l\n",
    "print('球的表面积为：',s)\n",
    "\n"
   ],
   "metadata": {
    "collapsed": false,
    "pycharm": {
     "name": "#%%\n",
     "is_executing": false
    }
   }
  },
  {
   "cell_type": "code",
   "execution_count": 59,
   "outputs": [
    {
     "name": "stdout",
     "text": [
      "球的体积为： 4.1887902047863905\n"
     ],
     "output_type": "stream"
    }
   ],
   "source": [
    "#计算球的体积\n",
    "import math\n",
    "a=int(input(\"请输入球的半径：\"))\n",
    "l=a\n",
    "s=4/3*math.pi*(l**2)\n",
    "print('球的体积为：',s)\n"
   ],
   "metadata": {
    "collapsed": false,
    "pycharm": {
     "name": "#%%\n",
     "is_executing": false
    }
   }
  },
  {
   "cell_type": "code",
   "execution_count": 60,
   "outputs": [
    {
     "name": "stdout",
     "text": [
      "37.8 摄氏温度转为华氏温度为 100.0\n"
     ],
     "output_type": "stream"
    }
   ],
   "source": [
    "#摄氏温度转为华氏温度\n",
    "celsius = float(input('输入摄氏度：'))\n",
    "fahrenheit = (celsius * 1.8)+32\n",
    "print('%0.1f 摄氏温度转为华氏温度为 %0.1f' % (celsius,fahrenheit))"
   ],
   "metadata": {
    "collapsed": false,
    "pycharm": {
     "name": "#%%\n",
     "is_executing": false
    }
   }
  },
  {
   "cell_type": "code",
   "execution_count": 83,
   "outputs": [
    {
     "name": "stdout",
     "text": [
      "#第1行:61\n#第2行:12\n#第3行:14\n#第4行:14\n#第5行:26\n#第6行:79\n#第7行:80\n#第8行:3\n#第9行:14\n#第10行:4\n"
     ],
     "output_type": "stream"
    }
   ],
   "source": [
    "#创建文件写1-10行随机数并输出如下格式\n",
    "import random     #随机数模块\n",
    "with open(\"C:/Users/Lenovo/Desktop/1.txt\", 'w') as f:\n",
    "    for i in range(1,11):\n",
    "        a=str(random.randint(1,100))\n",
    "        f.write(a+\"\\n\")\n",
    "        print('#第'+ str(i) +'行:'+a)"
   ],
   "metadata": {
    "collapsed": false,
    "pycharm": {
     "name": "#%%\n",
     "is_executing": false
    }
   }
  },
  {
   "cell_type": "code",
   "execution_count": 4,
   "outputs": [
    {
     "name": "stdout",
     "text": [
      "请输入数字！\n"
     ],
     "output_type": "stream"
    }
   ],
   "source": [
    "#捕获异常\n",
    "# a=input('请输入两个数字：')\n",
    "# b=input()\n",
    "a=input('请输入两个数字：')\n",
    "x,y=a.split(\" \")      #split:分割函数\n",
    "try:\n",
    "    i = int(x) + int(y)\n",
    "    print(i)\n",
    "except BaseException:       #捕获异常\n",
    "    print(\"请输入数字！\")\n"
   ],
   "metadata": {
    "collapsed": false,
    "pycharm": {
     "name": "#%%\n",
     "is_executing": false
    }
   }
  },
  {
   "cell_type": "code",
   "execution_count": 14,
   "outputs": [
    {
     "data": {
      "text/plain": "array([[1., 0., 0., 0.],\n       [0., 1., 0., 0.],\n       [0., 0., 1., 0.],\n       [0., 0., 0., 1.]])"
     },
     "metadata": {},
     "output_type": "execute_result",
     "execution_count": 14
    }
   ],
   "source": [],
   "metadata": {
    "collapsed": false,
    "pycharm": {
     "name": "#%%\n",
     "is_executing": false
    }
   }
  }
 ],
 "metadata": {
  "kernelspec": {
   "display_name": "Python 3",
   "language": "python",
   "name": "python3"
  },
  "language_info": {
   "codemirror_mode": {
    "name": "ipython",
    "version": 2
   },
   "file_extension": ".py",
   "mimetype": "text/x-python",
   "name": "python",
   "nbconvert_exporter": "python",
   "pygments_lexer": "ipython2",
   "version": "2.7.6"
  },
  "pycharm": {
   "stem_cell": {
    "cell_type": "raw",
    "source": [],
    "metadata": {
     "collapsed": false
    }
   }
  }
 },
 "nbformat": 4,
 "nbformat_minor": 0
}